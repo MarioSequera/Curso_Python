{
  "nbformat": 4,
  "nbformat_minor": 0,
  "metadata": {
    "colab": {
      "provenance": [],
      "include_colab_link": true
    },
    "kernelspec": {
      "name": "python3",
      "display_name": "Python 3"
    },
    "language_info": {
      "name": "python"
    }
  },
  "cells": [
    {
      "cell_type": "markdown",
      "metadata": {
        "id": "view-in-github",
        "colab_type": "text"
      },
      "source": [
        "<a href=\"https://colab.research.google.com/github/MarioSequera/Curso_Python/blob/main/copia_de_estudandopython.ipynb\" target=\"_parent\"><img src=\"https://colab.research.google.com/assets/colab-badge.svg\" alt=\"Open In Colab\"/></a>"
      ]
    },
    {
      "cell_type": "code",
      "execution_count": null,
      "metadata": {
        "id": "uD1XYHV4HaEA",
        "colab": {
          "base_uri": "https://localhost:8080/"
        },
        "outputId": "0f3b08fd-4022-4868-a351-61c7a6966042"
      },
      "outputs": [
        {
          "output_type": "stream",
          "name": "stdout",
          "text": [
            "Estas son las llaves del diccionario\n",
            "dict_keys(['name', 'age', 'country', 'profession'])\n",
            "\n",
            " Mostrando todo el diccionario\n",
            "dict_items([('name', 'Mario'), ('age', 48), ('country', 'Venezuela'), ('profession', 'Professor')])\n"
          ]
        }
      ],
      "source": [
        "\n",
        "people = {\n",
        "    'name':'Mario',\n",
        "    'age':48,\n",
        "    'country':'Venezuela',\n",
        "    'profession':'Professor'\n",
        "}\n",
        "print('Estas son las llaves del diccionario') \n",
        "print(people.keys())\n",
        "print('\\n Mostrando todo el diccionario')\n",
        "print(people.items())\n"
      ]
    },
    {
      "cell_type": "code",
      "source": [
        "people['telephone']= '983857927'\n",
        "print('Adicionando una nueva chave llamada telefono a mi diccionario')\n",
        "print(people)"
      ],
      "metadata": {
        "colab": {
          "base_uri": "https://localhost:8080/"
        },
        "id": "Wt1pW0XGKNzb",
        "outputId": "92e39fdd-a04e-4ce7-db69-5f3c95f2919b"
      },
      "execution_count": null,
      "outputs": [
        {
          "output_type": "stream",
          "name": "stdout",
          "text": [
            "Adicionando una nueva chave llamada telefono a mi diccionario\n",
            "{'name': 'Mario', 'age': 48, 'country': 'Venezuela', 'profession': 'Professor', 'telephone': '983857927'}\n"
          ]
        }
      ]
    },
    {
      "cell_type": "code",
      "source": [
        "people.pop('profession')\n",
        "print(people)"
      ],
      "metadata": {
        "colab": {
          "base_uri": "https://localhost:8080/"
        },
        "id": "IT1gGiD4LgSy",
        "outputId": "6225e170-3614-4d74-ba0b-f63556be6632"
      },
      "execution_count": null,
      "outputs": [
        {
          "output_type": "stream",
          "name": "stdout",
          "text": [
            "{'name': 'Mario', 'age': 48, 'country': 'Venezuela', 'telephone': '983857927'}\n"
          ]
        }
      ]
    },
    {
      "cell_type": "code",
      "source": [
        "user = [\n",
        "    {\n",
        "      'id':0,\n",
        "      'email':'mario@gmai.com',\n",
        "      'login':'donmario',\n",
        "      'senha':'*****'\n",
        "    },\n",
        "    {\n",
        "      'id':1,\n",
        "      'email':'nadiduno@gmai.com',\n",
        "      'login':'nadiduno',\n",
        "      'senha':'*****'\n",
        "    },\n",
        "    {\n",
        "      'id':2,\n",
        "      'email':'asmeninasvenezuelanas@gmai.com',\n",
        "      'login':'meninavenezuelana',\n",
        "      'senha':'*****'\n",
        "    }\n",
        "]"
      ],
      "metadata": {
        "id": "6QyHRhWONE5t"
      },
      "execution_count": null,
      "outputs": []
    },
    {
      "cell_type": "code",
      "source": [
        "print('Monstarndo el segundo registro')\n",
        "user[1]"
      ],
      "metadata": {
        "colab": {
          "base_uri": "https://localhost:8080/"
        },
        "id": "qrh2dWNtNjgK",
        "outputId": "361864cd-0059-4171-c341-b2dbb8410efc"
      },
      "execution_count": null,
      "outputs": [
        {
          "output_type": "stream",
          "name": "stdout",
          "text": [
            "Monstarndo el segundo registro\n"
          ]
        },
        {
          "output_type": "execute_result",
          "data": {
            "text/plain": [
              "{'id': 1, 'email': 'nadiduno@gmai.com', 'login': 'nadiduno', 'senha': '*****'}"
            ]
          },
          "metadata": {},
          "execution_count": 10
        }
      ]
    },
    {
      "cell_type": "code",
      "source": [
        "print('Monstarndo el el email del segundo registro')\n",
        "user[1]['email']"
      ],
      "metadata": {
        "colab": {
          "base_uri": "https://localhost:8080/",
          "height": 54
        },
        "id": "55tQ3E-dPSHO",
        "outputId": "28a00784-35e6-409e-a985-ae375ceb47aa"
      },
      "execution_count": null,
      "outputs": [
        {
          "output_type": "stream",
          "name": "stdout",
          "text": [
            "Monstarndo el el email del segundo registro\n"
          ]
        },
        {
          "output_type": "execute_result",
          "data": {
            "text/plain": [
              "'nadiduno@gmai.com'"
            ],
            "application/vnd.google.colaboratory.intrinsic+json": {
              "type": "string"
            }
          },
          "metadata": {},
          "execution_count": 11
        }
      ]
    },
    {
      "cell_type": "code",
      "source": [
        "print('Monstarndo la senha del segundo registro')\n",
        "user[1]['senha']"
      ],
      "metadata": {
        "colab": {
          "base_uri": "https://localhost:8080/",
          "height": 54
        },
        "id": "XAdUSOeMPnA2",
        "outputId": "b48b4689-13f4-40d6-b4f5-ce0cd4957fa5"
      },
      "execution_count": null,
      "outputs": [
        {
          "output_type": "stream",
          "name": "stdout",
          "text": [
            "Monstarndo la senha del segundo registro\n"
          ]
        },
        {
          "output_type": "execute_result",
          "data": {
            "text/plain": [
              "'*****'"
            ],
            "application/vnd.google.colaboratory.intrinsic+json": {
              "type": "string"
            }
          },
          "metadata": {},
          "execution_count": 12
        }
      ]
    },
    {
      "cell_type": "code",
      "source": [
        "try:\n",
        "  print(newnumber4)\n",
        "except Exception as error:\n",
        "  print('Ocurreu um erro: ',error)"
      ],
      "metadata": {
        "colab": {
          "base_uri": "https://localhost:8080/"
        },
        "id": "ZY-ojzhER6Cj",
        "outputId": "c6af582f-878c-4977-c31a-9a416dd3f8bb"
      },
      "execution_count": null,
      "outputs": [
        {
          "output_type": "stream",
          "name": "stdout",
          "text": [
            "Ocurreu um erro:  name 'newnumber4' is not defined\n"
          ]
        }
      ]
    },
    {
      "cell_type": "code",
      "source": [
        "newnumber5=10\n",
        "try:\n",
        "  print(newnumber5)\n",
        "except Exception as error:\n",
        "  print('Ocurreu um erro: ',error)\n",
        "else:\n",
        "  print('Sucesso na execução')"
      ],
      "metadata": {
        "id": "aPxu04CXTBT9"
      },
      "execution_count": null,
      "outputs": []
    },
    {
      "cell_type": "code",
      "source": [
        "try:\n",
        "  print(newnumber6)\n",
        "except Exception as error:\n",
        "  print('Ocurreu um erro: ',error)\n",
        "else:\n",
        "  print('Sucesso na execução')\n",
        "finally:\n",
        "  newnumber6=0\n",
        "  print('Le asignamos um valor a sua variavel')\n",
        "print(newnumber6)"
      ],
      "metadata": {
        "id": "-34kc3qdTckk",
        "colab": {
          "base_uri": "https://localhost:8080/"
        },
        "outputId": "efc5df31-3fc1-46bf-8405-e83ce9d9c3d1"
      },
      "execution_count": null,
      "outputs": [
        {
          "output_type": "stream",
          "name": "stdout",
          "text": [
            "Ocurreu um erro:  name 'newnumber6' is not defined\n",
            "Le asignamos um valor a sua variavel\n",
            "0\n"
          ]
        }
      ]
    }
  ]
}