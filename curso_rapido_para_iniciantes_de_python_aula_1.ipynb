{
  "nbformat": 4,
  "nbformat_minor": 0,
  "metadata": {
    "colab": {
      "provenance": [],
      "authorship_tag": "ABX9TyNG0q+BlwE8OR1D7PD2+7pL",
      "include_colab_link": true
    },
    "kernelspec": {
      "name": "python3",
      "display_name": "Python 3"
    },
    "language_info": {
      "name": "python"
    }
  },
  "cells": [
    {
      "cell_type": "markdown",
      "metadata": {
        "id": "view-in-github",
        "colab_type": "text"
      },
      "source": [
        "<a href=\"https://colab.research.google.com/github/MarioSequera/Curso_Python/blob/main/curso_rapido_para_iniciantes_de_python_aula_1.ipynb\" target=\"_parent\"><img src=\"https://colab.research.google.com/assets/colab-badge.svg\" alt=\"Open In Colab\"/></a>"
      ]
    },
    {
      "cell_type": "markdown",
      "source": [
        "### Olá Mundo\n",
        "\n"
      ],
      "metadata": {
        "id": "cqEbqIVR36GQ"
      }
    },
    {
      "cell_type": "markdown",
      "source": [
        ">Nosso primeiro comando em Python"
      ],
      "metadata": {
        "id": "uWsDl6Y34VXO"
      }
    },
    {
      "cell_type": "code",
      "source": [
        "print(\"Olá Mundo\")"
      ],
      "metadata": {
        "colab": {
          "base_uri": "https://localhost:8080/"
        },
        "id": "7eRTDdrc4oP7",
        "outputId": "defa2f2d-bc4f-4c86-cd98-ee6716c4d729"
      },
      "execution_count": null,
      "outputs": [
        {
          "output_type": "stream",
          "name": "stdout",
          "text": [
            "Olá Mundo\n"
          ]
        }
      ]
    },
    {
      "cell_type": "markdown",
      "source": [
        "### Strings"
      ],
      "metadata": {
        "id": "KgtndBOK4vWd"
      }
    },
    {
      "cell_type": "markdown",
      "source": [
        "Concatenação com operador \"+\""
      ],
      "metadata": {
        "id": "_RAvBmrx5Vyb"
      }
    },
    {
      "cell_type": "code",
      "source": [
        "print(\"Curso\" + \" de Python\")"
      ],
      "metadata": {
        "colab": {
          "base_uri": "https://localhost:8080/"
        },
        "id": "j6tM4dTS5cIc",
        "outputId": "aced9bfe-186f-4f13-9315-8bb59b4a0966"
      },
      "execution_count": null,
      "outputs": [
        {
          "output_type": "stream",
          "name": "stdout",
          "text": [
            "Curso de Python\n"
          ]
        }
      ]
    },
    {
      "cell_type": "markdown",
      "source": [
        "Substituindo valores com format()"
      ],
      "metadata": {
        "id": "fqpgZAyh5vFT"
      }
    },
    {
      "cell_type": "code",
      "source": [
        "print(\"Aula {} do Curso de {}\".format(1, \"Python\"))"
      ],
      "metadata": {
        "colab": {
          "base_uri": "https://localhost:8080/"
        },
        "id": "ZZ0g8HpD52Pj",
        "outputId": "5ad5c9a3-de97-4f09-814e-1328c07620a1"
      },
      "execution_count": null,
      "outputs": [
        {
          "output_type": "stream",
          "name": "stdout",
          "text": [
            "Aula 1 do Curso de Python\n"
          ]
        }
      ]
    },
    {
      "cell_type": "markdown",
      "source": [
        ">Transformando para minusculas com lower()"
      ],
      "metadata": {
        "id": "pOpdc0t16eyp"
      }
    },
    {
      "cell_type": "code",
      "source": [
        "print(\"Curso de Python para Iniciantes\".lower())"
      ],
      "metadata": {
        "colab": {
          "base_uri": "https://localhost:8080/"
        },
        "id": "MGmipvED6nz6",
        "outputId": "90fae044-c616-449a-9c23-42cd266b0925"
      },
      "execution_count": null,
      "outputs": [
        {
          "output_type": "stream",
          "name": "stdout",
          "text": [
            "curso de python para iniciantes\n"
          ]
        }
      ]
    },
    {
      "cell_type": "markdown",
      "source": [
        ">Transformando para maiusculas com upper"
      ],
      "metadata": {
        "id": "wn80cAHG7BgQ"
      }
    },
    {
      "cell_type": "code",
      "source": [
        "print(\"Curso de Python para Iniciantes\".upper())"
      ],
      "metadata": {
        "colab": {
          "base_uri": "https://localhost:8080/"
        },
        "outputId": "0cd4c308-54dc-4bca-adee-50df81e68f03",
        "id": "Mrb9MJ0m72x9"
      },
      "execution_count": null,
      "outputs": [
        {
          "output_type": "stream",
          "name": "stdout",
          "text": [
            "CURSO DE PYTHON PARA INICIANTES\n"
          ]
        }
      ]
    },
    {
      "cell_type": "markdown",
      "source": [
        "###Curso Python Toti \n"
      ],
      "metadata": {
        "id": "Stvl4RbpWZao"
      }
    },
    {
      "cell_type": "markdown",
      "source": [
        "Novamente meu primeiro comando em Python"
      ],
      "metadata": {
        "id": "s73c80E1ZMX4"
      }
    },
    {
      "cell_type": "code",
      "source": [
        "print(\"Olá Mundo!\")"
      ],
      "metadata": {
        "colab": {
          "base_uri": "https://localhost:8080/"
        },
        "id": "ys8XXpO3ZTke",
        "outputId": "765894ef-8ab4-427c-9192-31e0163cf756"
      },
      "execution_count": null,
      "outputs": [
        {
          "output_type": "stream",
          "name": "stdout",
          "text": [
            "Olá Mundo!\n"
          ]
        }
      ]
    },
    {
      "cell_type": "markdown",
      "source": [
        "Strings"
      ],
      "metadata": {
        "id": "6EQ-B4BPZd_g"
      }
    },
    {
      "cell_type": "code",
      "source": [
        "print(\"Curso\" + \" de Python\")"
      ],
      "metadata": {
        "colab": {
          "base_uri": "https://localhost:8080/"
        },
        "id": "nYZoHKvKZnm1",
        "outputId": "b2bd83fb-6cf8-4ec7-a420-e9b787e98198"
      },
      "execution_count": null,
      "outputs": [
        {
          "output_type": "stream",
          "name": "stdout",
          "text": [
            "Curso de Python\n"
          ]
        }
      ]
    },
    {
      "cell_type": "markdown",
      "source": [
        "> Substituindo valores com format()"
      ],
      "metadata": {
        "id": "NXYVPA40Z1yH"
      }
    },
    {
      "cell_type": "code",
      "source": [
        "print(\"Aula {} do Curso de {}\".format(1, \"Python\"))"
      ],
      "metadata": {
        "colab": {
          "base_uri": "https://localhost:8080/"
        },
        "id": "0Q6ST9U3aFxF",
        "outputId": "9aa0c335-79dd-4235-d317-6c4e48db0c9a"
      },
      "execution_count": null,
      "outputs": [
        {
          "output_type": "stream",
          "name": "stdout",
          "text": [
            "Aula 1 do Curso de Python\n"
          ]
        }
      ]
    },
    {
      "cell_type": "markdown",
      "source": [
        ">Transformando para minusculas com \"lower( )\""
      ],
      "metadata": {
        "id": "63CIucH3arQV"
      }
    },
    {
      "cell_type": "code",
      "source": [
        "print(\"Curso de Python para Iniciantes\".lower())"
      ],
      "metadata": {
        "colab": {
          "base_uri": "https://localhost:8080/"
        },
        "id": "GMMOMNrLa7Cz",
        "outputId": "306f412c-33c0-41cd-ccc7-a4129e626af8"
      },
      "execution_count": null,
      "outputs": [
        {
          "output_type": "stream",
          "name": "stdout",
          "text": [
            "curso de python para iniciantes\n"
          ]
        }
      ]
    },
    {
      "cell_type": "markdown",
      "source": [
        ">Transformando para maiusculas com upper()"
      ],
      "metadata": {
        "id": "EQddTLk5bkdl"
      }
    },
    {
      "cell_type": "code",
      "source": [
        "print(\"Curso de Python para Inciantes\".upper())"
      ],
      "metadata": {
        "colab": {
          "base_uri": "https://localhost:8080/"
        },
        "id": "erfis5yxbt9C",
        "outputId": "d70bce47-7931-4908-b180-504b9f42548b"
      },
      "execution_count": null,
      "outputs": [
        {
          "output_type": "stream",
          "name": "stdout",
          "text": [
            "CURSO DE PYTHON PARA INCIANTES\n"
          ]
        }
      ]
    },
    {
      "cell_type": "markdown",
      "source": [
        ">Removendo espaços em branco com strip()"
      ],
      "metadata": {
        "id": "wZ3qM3fSb8YN"
      }
    },
    {
      "cell_type": "code",
      "source": [
        "print(\"    Curso de Python para Iniciantes    \".strip())"
      ],
      "metadata": {
        "colab": {
          "base_uri": "https://localhost:8080/"
        },
        "id": "HQ_heVO-cF4q",
        "outputId": "fa96e1dc-74e9-45ad-ec11-eb54ae21081a"
      },
      "execution_count": null,
      "outputs": [
        {
          "output_type": "stream",
          "name": "stdout",
          "text": [
            "Curso de Python para Iniciantes\n"
          ]
        }
      ]
    },
    {
      "cell_type": "markdown",
      "source": [
        ">O tipo str"
      ],
      "metadata": {
        "id": "0R6lKX_LcdPc"
      }
    },
    {
      "cell_type": "code",
      "source": [
        "type(\"Curso de Python para Iniciantes\")"
      ],
      "metadata": {
        "colab": {
          "base_uri": "https://localhost:8080/"
        },
        "id": "vBA8COdScleA",
        "outputId": "451b43e3-76b5-4487-e0e1-cfb8627c1b83"
      },
      "execution_count": null,
      "outputs": [
        {
          "output_type": "execute_result",
          "data": {
            "text/plain": [
              "str"
            ]
          },
          "metadata": {},
          "execution_count": 8
        }
      ]
    },
    {
      "cell_type": "markdown",
      "source": [
        "###Lidando com numeros e Operadores Matematicos "
      ],
      "metadata": {
        "id": "7ga8JP59dMBr"
      }
    },
    {
      "cell_type": "markdown",
      "source": [
        "Tipos Numericos"
      ],
      "metadata": {
        "id": "IbheDPZsdYxc"
      }
    },
    {
      "cell_type": "code",
      "source": [
        "type(2)"
      ],
      "metadata": {
        "colab": {
          "base_uri": "https://localhost:8080/"
        },
        "id": "0D3jzFnKdb6_",
        "outputId": "ab563c80-3eef-4ca1-8246-1295f415341a"
      },
      "execution_count": null,
      "outputs": [
        {
          "output_type": "execute_result",
          "data": {
            "text/plain": [
              "int"
            ]
          },
          "metadata": {},
          "execution_count": 9
        }
      ]
    },
    {
      "cell_type": "code",
      "source": [
        "type(2.5)"
      ],
      "metadata": {
        "colab": {
          "base_uri": "https://localhost:8080/"
        },
        "id": "cNBuF1HCdkmC",
        "outputId": "75286cbe-207d-4059-d054-e8682c0c9011"
      },
      "execution_count": null,
      "outputs": [
        {
          "output_type": "execute_result",
          "data": {
            "text/plain": [
              "float"
            ]
          },
          "metadata": {},
          "execution_count": 10
        }
      ]
    },
    {
      "cell_type": "markdown",
      "source": [
        "Soma"
      ],
      "metadata": {
        "id": "LeATbm4RdvwC"
      }
    },
    {
      "cell_type": "code",
      "source": [
        "2+2 "
      ],
      "metadata": {
        "colab": {
          "base_uri": "https://localhost:8080/"
        },
        "id": "0DkTdc7DdzNX",
        "outputId": "08a9b90d-e2ab-4670-dd0c-42b35f7001d5"
      },
      "execution_count": null,
      "outputs": [
        {
          "output_type": "execute_result",
          "data": {
            "text/plain": [
              "4"
            ]
          },
          "metadata": {},
          "execution_count": 15
        }
      ]
    },
    {
      "cell_type": "code",
      "source": [
        "print(2+2)"
      ],
      "metadata": {
        "colab": {
          "base_uri": "https://localhost:8080/"
        },
        "id": "rHkf6RGKeI75",
        "outputId": "076bafe8-46a9-4273-f76d-34ad0e40d4fe"
      },
      "execution_count": null,
      "outputs": [
        {
          "output_type": "stream",
          "name": "stdout",
          "text": [
            "4\n"
          ]
        }
      ]
    },
    {
      "cell_type": "markdown",
      "source": [
        ">Substraçao\n",
        "\n"
      ],
      "metadata": {
        "id": "m9RkLyRueNio"
      }
    },
    {
      "cell_type": "markdown",
      "source": [],
      "metadata": {
        "id": "fZ71ZCLEd82h"
      }
    },
    {
      "cell_type": "code",
      "source": [
        "10-7\n"
      ],
      "metadata": {
        "colab": {
          "base_uri": "https://localhost:8080/"
        },
        "id": "csmz2K0xeTRv",
        "outputId": "554a8cba-cdef-48a0-d946-375f04b8ec1f"
      },
      "execution_count": null,
      "outputs": [
        {
          "output_type": "execute_result",
          "data": {
            "text/plain": [
              "3"
            ]
          },
          "metadata": {},
          "execution_count": 17
        }
      ]
    },
    {
      "cell_type": "markdown",
      "source": [
        "Multiplicação"
      ],
      "metadata": {
        "id": "FQNaIfX3efLh"
      }
    },
    {
      "cell_type": "code",
      "source": [
        "7*3"
      ],
      "metadata": {
        "colab": {
          "base_uri": "https://localhost:8080/"
        },
        "id": "UiGoRgcVehw9",
        "outputId": "b82ea458-ea44-42ea-d028-3dc37a24d8ae"
      },
      "execution_count": null,
      "outputs": [
        {
          "output_type": "execute_result",
          "data": {
            "text/plain": [
              "21"
            ]
          },
          "metadata": {},
          "execution_count": 18
        }
      ]
    },
    {
      "cell_type": "markdown",
      "source": [
        ">Exponenciação"
      ],
      "metadata": {
        "id": "18JA1ovcelNw"
      }
    },
    {
      "cell_type": "code",
      "source": [
        "5**2"
      ],
      "metadata": {
        "colab": {
          "base_uri": "https://localhost:8080/"
        },
        "id": "r1AlWCY5ervo",
        "outputId": "a5f4357e-28fe-4f0e-b9ed-daa703fdf7c7"
      },
      "execution_count": null,
      "outputs": [
        {
          "output_type": "execute_result",
          "data": {
            "text/plain": [
              "25"
            ]
          },
          "metadata": {},
          "execution_count": 19
        }
      ]
    },
    {
      "cell_type": "markdown",
      "source": [
        ">Divisão"
      ],
      "metadata": {
        "id": "XVsMgXFBe3QI"
      }
    },
    {
      "cell_type": "code",
      "source": [
        "5/2"
      ],
      "metadata": {
        "colab": {
          "base_uri": "https://localhost:8080/"
        },
        "id": "EM_0gn48e5Gt",
        "outputId": "f63dbad1-90d8-44f2-a1dc-f838f72a3792"
      },
      "execution_count": null,
      "outputs": [
        {
          "output_type": "execute_result",
          "data": {
            "text/plain": [
              "2.5"
            ]
          },
          "metadata": {},
          "execution_count": 20
        }
      ]
    },
    {
      "cell_type": "code",
      "source": [
        "type(5/2)"
      ],
      "metadata": {
        "colab": {
          "base_uri": "https://localhost:8080/"
        },
        "id": "dHDkqtxOfC_P",
        "outputId": "37a600ef-75ff-44ab-d7d5-60af6796f2ba"
      },
      "execution_count": null,
      "outputs": [
        {
          "output_type": "execute_result",
          "data": {
            "text/plain": [
              "float"
            ]
          },
          "metadata": {},
          "execution_count": 21
        }
      ]
    },
    {
      "cell_type": "markdown",
      "source": [
        ">>Divisão Inteira"
      ],
      "metadata": {
        "id": "n1o65pB7fJkn"
      }
    },
    {
      "cell_type": "code",
      "source": [
        "5//2"
      ],
      "metadata": {
        "colab": {
          "base_uri": "https://localhost:8080/"
        },
        "id": "4tet0gQGfOfM",
        "outputId": "caf15ef5-16e7-4705-914f-fd62533f95cb"
      },
      "execution_count": null,
      "outputs": [
        {
          "output_type": "execute_result",
          "data": {
            "text/plain": [
              "2"
            ]
          },
          "metadata": {},
          "execution_count": 23
        }
      ]
    },
    {
      "cell_type": "markdown",
      "source": [
        ">>Resto do Divisão"
      ],
      "metadata": {
        "id": "DTmwqHWMfcJy"
      }
    },
    {
      "cell_type": "code",
      "source": [
        "5%2"
      ],
      "metadata": {
        "colab": {
          "base_uri": "https://localhost:8080/"
        },
        "id": "bXKPlgTsfhTk",
        "outputId": "2f8f0394-eea5-4dd8-d6cc-f89da61cbb60"
      },
      "execution_count": null,
      "outputs": [
        {
          "output_type": "execute_result",
          "data": {
            "text/plain": [
              "1"
            ]
          },
          "metadata": {},
          "execution_count": 24
        }
      ]
    },
    {
      "cell_type": "markdown",
      "source": [
        ">Expressões"
      ],
      "metadata": {
        "id": "AAlmVBhlfp1i"
      }
    },
    {
      "cell_type": "code",
      "source": [
        "10-5+20-4"
      ],
      "metadata": {
        "colab": {
          "base_uri": "https://localhost:8080/"
        },
        "id": "Xgcg0DtkftKs",
        "outputId": "709cdfcd-1982-468c-c4a2-e75c5aec0ee9"
      },
      "execution_count": null,
      "outputs": [
        {
          "output_type": "execute_result",
          "data": {
            "text/plain": [
              "21"
            ]
          },
          "metadata": {},
          "execution_count": 25
        }
      ]
    },
    {
      "cell_type": "code",
      "source": [
        "((2+3)*(4-2)) ** 2"
      ],
      "metadata": {
        "colab": {
          "base_uri": "https://localhost:8080/"
        },
        "id": "N0e8GGhjf2oQ",
        "outputId": "02d580c4-08f7-490e-80c6-66fc882e26d2"
      },
      "execution_count": null,
      "outputs": [
        {
          "output_type": "execute_result",
          "data": {
            "text/plain": [
              "100"
            ]
          },
          "metadata": {},
          "execution_count": 26
        }
      ]
    },
    {
      "cell_type": "markdown",
      "source": [
        "###AULA 2 CURSO INICIANTES"
      ],
      "metadata": {
        "id": "VY3lmgQLggSP"
      }
    },
    {
      "cell_type": "markdown",
      "source": [
        ">Variaveis"
      ],
      "metadata": {
        "id": "e5SaOcBHgtHH"
      }
    },
    {
      "cell_type": "markdown",
      "source": [
        "Variaveis de Texto"
      ],
      "metadata": {
        "id": "LSzdOJP9g1H-"
      }
    },
    {
      "cell_type": "code",
      "source": [
        "texto = \"Curso de Python para Iniciantes\""
      ],
      "metadata": {
        "id": "5Y8ChSHUg35S"
      },
      "execution_count": null,
      "outputs": []
    },
    {
      "cell_type": "code",
      "source": [
        "texto"
      ],
      "metadata": {
        "colab": {
          "base_uri": "https://localhost:8080/",
          "height": 36
        },
        "id": "i5CZ5CH1hVdU",
        "outputId": "93f9fb8f-5ce5-48dc-af23-f09f5eea13d8"
      },
      "execution_count": null,
      "outputs": [
        {
          "output_type": "execute_result",
          "data": {
            "text/plain": [
              "'Curso de Python para Iniciantes'"
            ],
            "application/vnd.google.colaboratory.intrinsic+json": {
              "type": "string"
            }
          },
          "metadata": {},
          "execution_count": 28
        }
      ]
    },
    {
      "cell_type": "code",
      "source": [
        "texto = texto + \" - Aula 02\"\n",
        "texto"
      ],
      "metadata": {
        "colab": {
          "base_uri": "https://localhost:8080/",
          "height": 36
        },
        "id": "kgw60L3kha1E",
        "outputId": "f9458eb7-294f-4585-927e-e1adbd61b583"
      },
      "execution_count": null,
      "outputs": [
        {
          "output_type": "execute_result",
          "data": {
            "text/plain": [
              "'Curso de Python para Iniciantes - Aula 02'"
            ],
            "application/vnd.google.colaboratory.intrinsic+json": {
              "type": "string"
            }
          },
          "metadata": {},
          "execution_count": 29
        }
      ]
    },
    {
      "cell_type": "markdown",
      "source": [
        ">Variaveis Numericas"
      ],
      "metadata": {
        "id": "shHvuLXMh45c"
      }
    },
    {
      "cell_type": "code",
      "source": [
        "soma = 0\n",
        "soma"
      ],
      "metadata": {
        "colab": {
          "base_uri": "https://localhost:8080/"
        },
        "id": "e6k5k_tDh_EQ",
        "outputId": "95254a99-f2df-4ad4-8341-b74bc2ad9662"
      },
      "execution_count": null,
      "outputs": [
        {
          "output_type": "execute_result",
          "data": {
            "text/plain": [
              "0"
            ]
          },
          "metadata": {},
          "execution_count": 30
        }
      ]
    },
    {
      "cell_type": "markdown",
      "source": [
        ">> Incrementando/Decrementando"
      ],
      "metadata": {
        "id": "nIENNpTFiKPT"
      }
    },
    {
      "cell_type": "code",
      "source": [
        "soma = soma + 1\n",
        "soma"
      ],
      "metadata": {
        "colab": {
          "base_uri": "https://localhost:8080/"
        },
        "id": "ix7M5L8qiYxY",
        "outputId": "c9c5fe7b-8c60-40ba-915d-45ceb3128742"
      },
      "execution_count": null,
      "outputs": [
        {
          "output_type": "execute_result",
          "data": {
            "text/plain": [
              "1"
            ]
          },
          "metadata": {},
          "execution_count": 31
        }
      ]
    },
    {
      "cell_type": "code",
      "source": [
        "soma += 1\n",
        "soma"
      ],
      "metadata": {
        "colab": {
          "base_uri": "https://localhost:8080/"
        },
        "id": "BspLfpw_i7Cq",
        "outputId": "1982724e-d6fb-4763-b32a-481c1e7b3269"
      },
      "execution_count": null,
      "outputs": [
        {
          "output_type": "execute_result",
          "data": {
            "text/plain": [
              "2"
            ]
          },
          "metadata": {},
          "execution_count": 32
        }
      ]
    },
    {
      "cell_type": "code",
      "source": [
        "soma -= 1\n",
        "soma"
      ],
      "metadata": {
        "colab": {
          "base_uri": "https://localhost:8080/"
        },
        "id": "aY8-U0xdjEli",
        "outputId": "81361286-9596-4473-b57e-5a2fb3101050"
      },
      "execution_count": null,
      "outputs": [
        {
          "output_type": "execute_result",
          "data": {
            "text/plain": [
              "1"
            ]
          },
          "metadata": {},
          "execution_count": 33
        }
      ]
    },
    {
      "cell_type": "code",
      "source": [
        "soma = soma-1\n",
        "soma"
      ],
      "metadata": {
        "colab": {
          "base_uri": "https://localhost:8080/"
        },
        "id": "FHdfR4crjTCq",
        "outputId": "69387645-d220-4c68-c817-2eb76ecff3d0"
      },
      "execution_count": null,
      "outputs": [
        {
          "output_type": "execute_result",
          "data": {
            "text/plain": [
              "0"
            ]
          },
          "metadata": {},
          "execution_count": 34
        }
      ]
    },
    {
      "cell_type": "markdown",
      "source": [
        ">> LISTAS"
      ],
      "metadata": {
        "id": "zXzEqgyBju40"
      }
    },
    {
      "cell_type": "markdown",
      "source": [
        "> Criando e selecionando Elementos\n",
        "    Ele se faz com [] Colchetes\n"
      ],
      "metadata": {
        "id": "xSSdzBfkj_hh"
      }
    },
    {
      "cell_type": "code",
      "source": [
        "frutas = [\"maça\", \"banana\", \"laranja\"]\n",
        "frutas"
      ],
      "metadata": {
        "colab": {
          "base_uri": "https://localhost:8080/"
        },
        "id": "o1DiKUNvkIlt",
        "outputId": "e8545fec-6de3-42a2-c676-24bcc31cee05"
      },
      "execution_count": null,
      "outputs": [
        {
          "output_type": "execute_result",
          "data": {
            "text/plain": [
              "['maça', 'banana', 'laranja']"
            ]
          },
          "metadata": {},
          "execution_count": 36
        }
      ]
    },
    {
      "cell_type": "code",
      "source": [
        "frutas[2]"
      ],
      "metadata": {
        "colab": {
          "base_uri": "https://localhost:8080/",
          "height": 36
        },
        "id": "1RUlnqYDlhCZ",
        "outputId": "5354b91d-d9ca-4f1d-9318-2a0fdc671818"
      },
      "execution_count": null,
      "outputs": [
        {
          "output_type": "execute_result",
          "data": {
            "text/plain": [
              "'laranja'"
            ],
            "application/vnd.google.colaboratory.intrinsic+json": {
              "type": "string"
            }
          },
          "metadata": {},
          "execution_count": 39
        }
      ]
    },
    {
      "cell_type": "code",
      "source": [
        "numeros = [1,2,3,4,5]\n",
        "numeros"
      ],
      "metadata": {
        "colab": {
          "base_uri": "https://localhost:8080/"
        },
        "id": "xtyCBx4ily4e",
        "outputId": "26233f54-3cb2-4f34-9d65-6bb43e8244a6"
      },
      "execution_count": null,
      "outputs": [
        {
          "output_type": "execute_result",
          "data": {
            "text/plain": [
              "[1, 2, 3, 4, 5]"
            ]
          },
          "metadata": {},
          "execution_count": 40
        }
      ]
    },
    {
      "cell_type": "code",
      "source": [
        "lista = [\"a\", \"b\", \"c\", frutas, numeros]\n",
        "lista"
      ],
      "metadata": {
        "colab": {
          "base_uri": "https://localhost:8080/"
        },
        "id": "UEWKqCljmGau",
        "outputId": "31909bca-cb34-479d-bfc9-ef62a7944164"
      },
      "execution_count": null,
      "outputs": [
        {
          "output_type": "execute_result",
          "data": {
            "text/plain": [
              "['a', 'b', 'c', ['maça', 'banana', 'laranja'], [1, 2, 3, 4, 5]]"
            ]
          },
          "metadata": {},
          "execution_count": 41
        }
      ]
    },
    {
      "cell_type": "code",
      "source": [
        "lista[4]"
      ],
      "metadata": {
        "colab": {
          "base_uri": "https://localhost:8080/"
        },
        "id": "s2IF_Eylmfkm",
        "outputId": "fce51881-7ef0-443a-fc6e-8e8c97cf40b7"
      },
      "execution_count": null,
      "outputs": [
        {
          "output_type": "execute_result",
          "data": {
            "text/plain": [
              "[1, 2, 3, 4, 5]"
            ]
          },
          "metadata": {},
          "execution_count": 45
        }
      ]
    },
    {
      "cell_type": "code",
      "source": [
        "lista[3][0]"
      ],
      "metadata": {
        "colab": {
          "base_uri": "https://localhost:8080/",
          "height": 36
        },
        "id": "wJpX-N0pmsxd",
        "outputId": "e6a2d49b-e509-4cdd-cb26-5d1c1a81dca4"
      },
      "execution_count": null,
      "outputs": [
        {
          "output_type": "execute_result",
          "data": {
            "text/plain": [
              "'maça'"
            ],
            "application/vnd.google.colaboratory.intrinsic+json": {
              "type": "string"
            }
          },
          "metadata": {},
          "execution_count": 46
        }
      ]
    },
    {
      "cell_type": "code",
      "source": [
        "lista[:2]"
      ],
      "metadata": {
        "colab": {
          "base_uri": "https://localhost:8080/"
        },
        "id": "pseiZPZenAux",
        "outputId": "3d01abfe-dc55-4a0c-fcb8-8b8d01037451"
      },
      "execution_count": null,
      "outputs": [
        {
          "output_type": "execute_result",
          "data": {
            "text/plain": [
              "['a', 'b']"
            ]
          },
          "metadata": {},
          "execution_count": 47
        }
      ]
    },
    {
      "cell_type": "code",
      "source": [
        "lista[2:]"
      ],
      "metadata": {
        "colab": {
          "base_uri": "https://localhost:8080/"
        },
        "id": "rKDy7n3pnhWI",
        "outputId": "c21a3d02-387e-40e7-8813-ab17f81dc5a6"
      },
      "execution_count": null,
      "outputs": [
        {
          "output_type": "execute_result",
          "data": {
            "text/plain": [
              "['c', ['maça', 'banana', 'laranja'], [1, 2, 3, 4, 5]]"
            ]
          },
          "metadata": {},
          "execution_count": 48
        }
      ]
    },
    {
      "cell_type": "code",
      "source": [
        "lista[2:4]"
      ],
      "metadata": {
        "colab": {
          "base_uri": "https://localhost:8080/"
        },
        "id": "zlAj3YuVpDD5",
        "outputId": "3b739ae8-3a71-4794-886f-def3c9ce8170"
      },
      "execution_count": null,
      "outputs": [
        {
          "output_type": "execute_result",
          "data": {
            "text/plain": [
              "['c', ['maça', 'banana', 'laranja']]"
            ]
          },
          "metadata": {},
          "execution_count": 49
        }
      ]
    },
    {
      "cell_type": "markdown",
      "source": [
        ">Adicionando e removendo elementos"
      ],
      "metadata": {
        "id": "UIUIyOmEp5lg"
      }
    },
    {
      "cell_type": "code",
      "source": [],
      "metadata": {
        "id": "LbdZPejKqBgD"
      },
      "execution_count": null,
      "outputs": []
    }
  ]
}